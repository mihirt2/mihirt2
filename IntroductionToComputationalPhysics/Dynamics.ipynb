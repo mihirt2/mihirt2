{
  "cells": [
    {
      "cell_type": "markdown",
      "metadata": {
        "id": "sbiLdDUNLFO8"
      },
      "source": [
        "# Dynamics"
      ]
    },
    {
      "cell_type": "markdown",
      "metadata": {
        "id": "qi2LG28VLFPA"
      },
      "source": [
        "* **Author: Mihir Tandon**\n",
        "\n",
        "* **Date: 2/26/25**\n",
        "\n",
        "* **Time spent on this assignment:**"
      ]
    },
    {
      "cell_type": "markdown",
      "metadata": {
        "id": "LRTIFDHPLFPB"
      },
      "source": [
        "## Overview"
      ]
    },
    {
      "cell_type": "markdown",
      "metadata": {
        "id": "ODrVSmnBLFPB"
      },
      "source": [
        "In this assignment you are going to first\n",
        "* write a first-order integrator to solve differential equations (like dynamics)\n",
        "* improve this to be a second-order integrator\n",
        "* and improve your simulation so it takes parameters from a dictionary.\n",
        "\n",
        "Then you will\n",
        "* compare the path of balls thrown with and without air resistance\n",
        "* measure the terminal velocity of a falling object."
      ]
    },
    {
      "cell_type": "code",
      "execution_count": 2,
      "metadata": {
        "code_folding": [
          3
        ],
        "tags": [
          "hide-cell"
        ],
        "id": "ROyjFO6FLFPC",
        "outputId": "678f0a96-bc01-4a33-bfec-fc3e05dab0de",
        "colab": {
          "base_uri": "https://localhost:8080/"
        }
      },
      "outputs": [
        {
          "output_type": "execute_result",
          "data": {
            "text/plain": [
              "datetime.datetime(2025, 1, 29, 19, 2, 8, 487043)"
            ]
          },
          "metadata": {},
          "execution_count": 2
        }
      ],
      "source": [
        "import numpy as np\n",
        "import matplotlib.pyplot as plt\n",
        "import scipy\n",
        "def resetMe(keepList=[]):\n",
        "    ll=%who_ls\n",
        "    keepList=keepList+['resetMe','np','plt','scipy']\n",
        "    for iiii in keepList:\n",
        "        if iiii in ll:\n",
        "            ll.remove(iiii)\n",
        "    for iiii in ll:\n",
        "        jjjj=\"^\"+iiii+\"$\"\n",
        "        %reset_selective -f {jjjj}\n",
        "    ll=%who_ls\n",
        "    plt.rcParams.update({\"font.size\": 14})\n",
        "    return\n",
        "import datetime;datetime.datetime.now()\n"
      ]
    },
    {
      "cell_type": "markdown",
      "metadata": {
        "heading_collapsed": true,
        "id": "-sfSsTxJLFPD"
      },
      "source": [
        "##  Warmups"
      ]
    },
    {
      "cell_type": "markdown",
      "metadata": {
        "hidden": true,
        "id": "dy_zKTMNLFPD"
      },
      "source": [
        "### Lists to numpy arrays"
      ]
    },
    {
      "cell_type": "markdown",
      "metadata": {
        "hidden": true,
        "id": "NcrCOfpDLFPD"
      },
      "source": [
        "In a number of cases you will hav a list like `a=[1.2,3.2,5.4]` and want to convert it to a numpy array.  To do this, you can do  `a=np.array(a)`"
      ]
    },
    {
      "cell_type": "code",
      "execution_count": 3,
      "metadata": {
        "hidden": true,
        "id": "zaJiFIpoLFPE",
        "outputId": "5ef799f6-83dc-4418-aec4-92690f042c5f",
        "colab": {
          "base_uri": "https://localhost:8080/"
        }
      },
      "outputs": [
        {
          "output_type": "stream",
          "name": "stdout",
          "text": [
            "<class 'list'>\n",
            "<class 'numpy.ndarray'>\n"
          ]
        }
      ],
      "source": [
        "resetMe()\n",
        "a=[1.2,3.2,5.4]\n",
        "print(type(a))\n",
        "a=np.array(a)\n",
        "print(type(a))"
      ]
    },
    {
      "cell_type": "markdown",
      "metadata": {
        "hidden": true,
        "id": "g7oi4UHULFPE"
      },
      "source": [
        "numpy arrays are useful because we do basic math operations on them (`+`,`-`,`*`,`/`) among other things we'll see.\n",
        "\n",
        "---\n",
        "\n",
        "In this exercise, we are actually going to have a list of numpy arrays.  \n",
        "```python\n",
        "positions=[np.array([0.0,1.0]),\n",
        "           np.array([0.1,2.0]),\n",
        "           np.array([0.2,3.0])]\n",
        "```\n",
        "\n",
        "We are going to convert that into a two-dimensional array using `np.array(positions)`.\n",
        "\n",
        "🦉Go ahead and make this conversion and then figure out how to seperately access the x positions and y positions (i.e. `positions[:,1])`"
      ]
    },
    {
      "cell_type": "code",
      "execution_count": 4,
      "metadata": {
        "hidden": true,
        "id": "V4xx6qmmLFPE",
        "outputId": "0e3266e4-a456-4e9f-a946-edeff01d800e",
        "colab": {
          "base_uri": "https://localhost:8080/"
        }
      },
      "outputs": [
        {
          "output_type": "stream",
          "name": "stdout",
          "text": [
            "[1. 2. 3.]\n",
            "Thex x positions should be [0.,0.1,0.2]\n",
            "The y positions should be [1.,2.,3.]\n"
          ]
        }
      ],
      "source": [
        "positions=[np.array([0.0,1.0]),np.array([0.1,2.0]),np.array([0.2,3.0])]\n",
        "# convert it to a numpy array\n",
        "# print out the y-positions\n",
        "positions=np.array(positions) #!#\n",
        "print(positions[:,1]) #!#\n",
        "print(\"Thex x positions should be [0.,0.1,0.2]\")\n",
        "print(\"The y positions should be [1.,2.,3.]\")"
      ]
    },
    {
      "cell_type": "markdown",
      "metadata": {
        "hidden": true,
        "id": "_BI2uG58LFPF"
      },
      "source": [
        "### Math with numpy arrays"
      ]
    },
    {
      "cell_type": "markdown",
      "metadata": {
        "hidden": true,
        "id": "pkU1C31DLFPF"
      },
      "source": [
        "Imagine that I have a numpy array representing a velocity: `myVel=np.array([0.2,2.5])`.\n",
        "\n",
        "I can now do math with this array.  I could for example  take a time `dt=0.1` and multiply it by `dt`.  This will multiply both the \"0.2\" and \"2.5\".\n",
        "\n",
        "You could square all the velocities by doing `myVel**2`\n"
      ]
    },
    {
      "cell_type": "code",
      "execution_count": 5,
      "metadata": {
        "hidden": true,
        "id": "LCrPKRNXLFPF",
        "outputId": "8ace163c-e9f1-47be-8062-5691cb201aa2",
        "colab": {
          "base_uri": "https://localhost:8080/"
        }
      },
      "outputs": [
        {
          "output_type": "stream",
          "name": "stdout",
          "text": [
            "dt = 0.1\n",
            "myVel is\t [0.2 2.5]\n",
            "dt*myVel is\t [0.02 0.25]\n",
            "myVel**2 is \t [0.04 6.25]\n"
          ]
        }
      ],
      "source": [
        "resetMe()\n",
        "dt=0.1\n",
        "myVel=np.array([0.2,2.5])\n",
        "print(\"dt =\",dt)\n",
        "print(\"myVel is\\t\",myVel)\n",
        "print(\"dt*myVel is\\t\" ,dt*myVel)\n",
        "print(\"myVel**2 is \\t\",myVel**2)"
      ]
    },
    {
      "cell_type": "markdown",
      "metadata": {
        "hidden": true,
        "id": "SA9ayZxCLFPF"
      },
      "source": [
        "### Dictionaries"
      ]
    },
    {
      "cell_type": "markdown",
      "metadata": {
        "hidden": true,
        "id": "A7GA9OaPLFPF"
      },
      "source": [
        "Later in this assignment (exercise 2) we are going to want to store some relevant parameters for our simulations (masses, time steps, friction constants, etc.).  One approach to doing this is to store them in a dictionary.\n",
        "```python\n",
        "params=dict() # can also use {}\n",
        "params[\"dt\"]   = 0.01\n",
        "params[\"mass\"] = 2.0\n",
        "params[\"b\"]    = 0.4\n",
        "print(params[\"dt\"])\n",
        "dt=params[\"dt\"]\n",
        "```\n",
        "Then I can just pull out the parameters when I need them.\n",
        "\n",
        "This also lets me verify I didn't forget to set some parameter.  If I do `param[\"temperature\"]` and haven't defined it yet, it's going to complain."
      ]
    },
    {
      "cell_type": "code",
      "execution_count": 6,
      "metadata": {
        "hidden": true,
        "id": "wg99sibxLFPF",
        "outputId": "11e5f8ba-b56d-494a-bb8e-41e2be5b69d9",
        "colab": {
          "base_uri": "https://localhost:8080/"
        }
      },
      "outputs": [
        {
          "output_type": "stream",
          "name": "stdout",
          "text": [
            "0.01\n"
          ]
        }
      ],
      "source": [
        "params=dict() # can also use {}\n",
        "params[\"dt\"]   = 0.01\n",
        "params[\"mass\"] = 2.0\n",
        "params[\"b\"]    = 0.4\n",
        "print(params[\"dt\"])\n",
        "dt=params[\"dt\"]\n",
        "#print(params[\"temperature\"]) # this won't work!"
      ]
    },
    {
      "cell_type": "markdown",
      "metadata": {
        "hidden": true,
        "id": "NDQSiMDRLFPF"
      },
      "source": [
        "### Fitting Lines"
      ]
    },
    {
      "cell_type": "markdown",
      "metadata": {
        "hidden": true,
        "id": "Al3ew_KULFPF"
      },
      "source": [
        "Suppose you have two arrays, `x` and `y` and you expect that there should be some linear relationship between $x$ and $y$.   \n",
        "\n"
      ]
    },
    {
      "cell_type": "code",
      "execution_count": 7,
      "metadata": {
        "hidden": true,
        "id": "G0B2DCdnLFPF",
        "outputId": "b460f985-2586-4ae5-8f5d-3583f48c1d86",
        "colab": {
          "base_uri": "https://localhost:8080/",
          "height": 486
        }
      },
      "outputs": [
        {
          "output_type": "display_data",
          "data": {
            "text/plain": [
              "<Figure size 640x480 with 1 Axes>"
            ],
            "image/png": "[encoded data removed]"
          },
          "metadata": {}
        }
      ],
      "source": [
        "slope=1.35\n",
        "x = np.linspace(0,2,40)\n",
        "y = slope*x+0.4*(np.random.random(len(x))-0.5)\n",
        "\n",
        "plt.plot(x,y,'.')\n",
        "plt.xlabel(\"X\")\n",
        "plt.ylabel(\"Y\")\n",
        "plt.title(\"Some Data\")\n",
        "plt.show()"
      ]
    },
    {
      "cell_type": "markdown",
      "metadata": {
        "hidden": true,
        "id": "bN0d_zIpLFPG"
      },
      "source": [
        "Here is an example of such data.  You want to figure out what this relationship is.   To do this, you can use\n",
        "`myLine=np.polyfit(x,y,1)`.  If you then print out `myLine` you should see that it gives you a list where the first value is the slope and the second value the y-intercept.  \n",
        "\n",
        "🦉You can see how well your line works by doing\n",
        "```python\n",
        "plt.plot(x,y,'.')\n",
        "plt.plot(x,myLine[0]*x+myLine[1])\n",
        "plt.show()\n",
        "```\n"
      ]
    },
    {
      "cell_type": "code",
      "execution_count": 8,
      "metadata": {
        "hidden": true,
        "id": "q4iz3cHQLFPG",
        "outputId": "ae76fa79-c6c9-4e83-ff62-5e0c99199d92",
        "colab": {
          "base_uri": "https://localhost:8080/",
          "height": 503
        }
      },
      "outputs": [
        {
          "output_type": "stream",
          "name": "stdout",
          "text": [
            "[ 1.34226518 -0.00457695]\n"
          ]
        },
        {
          "output_type": "display_data",
          "data": {
            "text/plain": [
              "<Figure size 640x480 with 1 Axes>"
            ],
            "image/png": "[encoded data removed]"
          },
          "metadata": {}
        }
      ],
      "source": [
        "# try it here\n",
        "myLine=np.polyfit(x,y,1) #!#\n",
        "print(myLine) #!#\n",
        "\n",
        "plt.plot(x,y,'.')\n",
        "plt.plot(x,myLine[0]*x+myLine[1])\n",
        "\n",
        "plt.xlabel(\"X\")\n",
        "plt.ylabel(\"Y\")\n",
        "plt.title(\"Some Data\")\n",
        "plt.show()"
      ]
    },
    {
      "cell_type": "markdown",
      "metadata": {
        "hidden": true,
        "id": "bVrtrkUHLFPG"
      },
      "source": [
        "### Fitting Polynomials"
      ]
    },
    {
      "cell_type": "markdown",
      "metadata": {
        "hidden": true,
        "id": "Lx7H5jZbLFPG"
      },
      "source": [
        "Suppose that you think you have some graph which goes as $y = Ax^b$.  How are you going to figure out what $b$ is?\n",
        "Well note that $\\log(y) = \\log(A) + b\\log(x)$.   Plotting $\\log(x)$ vs $\\log(y)$ is called plotting the the data on a log-log scale. Let's look at how that might work.\n",
        "\n",
        "Below is some data which has a polynomial relationship.  Notice how it looks quadratic."
      ]
    },
    {
      "cell_type": "code",
      "execution_count": 9,
      "metadata": {
        "hidden": true,
        "id": "V5AzxUx9LFPG",
        "outputId": "796d0539-9b9d-437b-ceec-927b0fd71eba",
        "colab": {
          "base_uri": "https://localhost:8080/",
          "height": 486
        }
      },
      "outputs": [
        {
          "output_type": "display_data",
          "data": {
            "text/plain": [
              "<Figure size 640x480 with 1 Axes>"
            ],
            "image/png": "[encoded data removed]"
          },
          "metadata": {}
        }
      ],
      "source": [
        "slope=1.35\n",
        "x = np.linspace(2,30,40)\n",
        "y = x**2+2.0*(np.random.random(len(x))-0.5)\n",
        "plt.plot(x,y,'.')\n",
        "\n",
        "plt.xlabel(\"X\")\n",
        "plt.ylabel(\"Y\")\n",
        "plt.title(\"Log data\")\n",
        "plt.show()"
      ]
    },
    {
      "cell_type": "markdown",
      "metadata": {
        "hidden": true,
        "id": "AIVxyNqvLFPG"
      },
      "source": [
        "Let's go ahead and plot x and y on a log-log scale.  To do this redo the plot above but add\n",
        "```\n",
        "plt.xscale('log')\n",
        "plt.yscale('log')\n",
        "```\n",
        "before the `plt.show()`."
      ]
    },
    {
      "cell_type": "code",
      "execution_count": 10,
      "metadata": {
        "hidden": true,
        "id": "mowsiI1ELFPG",
        "outputId": "292c845e-0c62-4568-bf5a-e9a9ce0c27d0",
        "colab": {
          "base_uri": "https://localhost:8080/",
          "height": 462
        }
      },
      "outputs": [
        {
          "output_type": "display_data",
          "data": {
            "text/plain": [
              "<Figure size 640x480 with 1 Axes>"
            ],
            "image/png": "[encoded data removed]"
          },
          "metadata": {}
        }
      ],
      "source": [
        "### go ahead and plot things on a log-scale here.\n",
        "#!Start\n",
        "plt.plot(x,y,'.')\n",
        "plt.xscale('log')\n",
        "plt.yscale('log')\n",
        "plt.xlabel(\"X\")\n",
        "plt.ylabel(\"Y\")\n",
        "plt.show()\n",
        "#!Stop"
      ]
    },
    {
      "cell_type": "markdown",
      "metadata": {
        "hidden": true,
        "id": "bEV390y_LFPG"
      },
      "source": [
        "You should notice your plot looks roughly linear.  We can go get the slope by doing a linear fit to the log-log plot. This can be done by doing\n",
        "```python\n",
        "myLine=np.polyfit(np.log(x),np.log(y),1)\n",
        "print(myLine)\n",
        "```\n",
        "\n",
        "Go ahead and try this out."
      ]
    },
    {
      "cell_type": "code",
      "execution_count": 11,
      "metadata": {
        "hidden": true,
        "id": "1Y4J0649LFPG",
        "outputId": "40fdd17d-cbc0-4499-8cfd-8008ddf8d42d",
        "colab": {
          "base_uri": "https://localhost:8080/"
        }
      },
      "outputs": [
        {
          "output_type": "stream",
          "name": "stdout",
          "text": [
            "[ 2.00745813 -0.02175301]\n"
          ]
        }
      ],
      "source": [
        "myLine=np.polyfit(np.log(x[1:]),np.log(y[1:]),1) #!#\n",
        "print(myLine) #!#\n"
      ]
    },
    {
      "cell_type": "markdown",
      "metadata": {
        "hidden": true,
        "id": "p9g1KXFlLFPH"
      },
      "source": [
        "You should see the slope should correspond to the $\\beta$ of $x^\\beta$.\n",
        "\n",
        "🦉Let's go ahead and plot to see how well this works"
      ]
    },
    {
      "cell_type": "code",
      "execution_count": 12,
      "metadata": {
        "hidden": true,
        "id": "D4qpvKmELFPH",
        "outputId": "7c27f3a6-bbd2-44b7-d820-c51b8bd1c575",
        "colab": {
          "base_uri": "https://localhost:8080/",
          "height": 438
        }
      },
      "outputs": [
        {
          "output_type": "display_data",
          "data": {
            "text/plain": [
              "<Figure size 640x480 with 1 Axes>"
            ],
            "image/png": "[encoded data removed]"
          },
          "metadata": {}
        }
      ],
      "source": [
        "plt.plot(x,y,'.')\n",
        "plt.plot(x,x**myLine[0])\n",
        "plt.xscale('log')\n",
        "plt.yscale('log')\n",
        "plt.show()"
      ]
    },
    {
      "cell_type": "markdown",
      "metadata": {
        "id": "5QFT4WRjLFPH"
      },
      "source": [
        "---\n",
        "---\n",
        "---\n"
      ]
    },
    {
      "cell_type": "markdown",
      "metadata": {
        "id": "NiqPRwhuLFPH"
      },
      "source": [
        "## Exercise 1: Euler Integration"
      ]
    },
    {
      "cell_type": "markdown",
      "metadata": {
        "id": "MIP63cFWLFPH"
      },
      "source": [
        "* **List of collaborators:**\n",
        "\n",
        "* **References you used in developing your code:**"
      ]
    },
    {
      "cell_type": "markdown",
      "metadata": {
        "id": "nj_Ll0rULFPH"
      },
      "source": [
        "In this exercise we are going to learn how to simulate a ball thrown into the air.  To do this, we will need to learn how to simulate dynamics.\n",
        "\n",
        "The secret to much of physics is differential equations.  Differential equations answer the following question:  given the current state of your physical system, what is its state in a moment of time ($dt$ seconds) later?\n",
        "\n",
        "We recall that in Newtonian dynamics the following things are true:\n",
        "\n",
        "$$F_y(t) = ma_y(t) \\rightarrow a_y(t) = \\frac{F_y(t)}{m} $$\n",
        "\n",
        "$$ \\frac{dv_y(t)}{dt} = a_y(t) \\rightarrow dv_y(t) = a_y(t) dt $$\n",
        "\n",
        "$$ \\frac{dy(t)}{dt} = v_y(t) \\rightarrow dy(t) = v_y(t) dt $$\n",
        "\n",
        "\n",
        "This set of equations tells us that\n",
        "* once we know $a_y(t)$, then we know $v_y(t+dt) = v_y(t) + dv_y(t) =v_y(t) + a_y(t) dt$\n",
        "* once we know $v_y(t)$, then we know that $y(t+dt) = y(t) + dy(t) = y(t) + v_y(t) dt$\n"
      ]
    },
    {
      "cell_type": "markdown",
      "metadata": {
        "id": "WOadAKB9LFPH"
      },
      "source": [
        "### a. Euler Integration in one-dimension (first order integrator)"
      ]
    },
    {
      "cell_type": "markdown",
      "metadata": {
        "id": "ymjPsXBILFPH"
      },
      "source": [
        "We can use this to write a function that takes the current time, position, velocity and dt and then gives back out the new time, position, and velocity - i.e\n",
        "```python\n",
        "def Step(t,pos,vel,dt):\n",
        "  # do stuff\n",
        "  return (new_t,new_pos,new_vel)\n",
        "```\n",
        "\n",
        "As our force, we will use gravity - i.e. $F_y=-9.8m$ -  and choose a mass of $m = 1$.\n",
        "🦉Write your `Step` function.  We are then going to call it five times after throwing a ball into the air and make sure you get the correct result.\n",
        "\n",
        "**The velocity you should use to update the position is not the new velocity.  It is the current velocity.**"
      ]
    },
    {
      "cell_type": "markdown",
      "metadata": {
        "id": "JgsfY6yILFPH"
      },
      "source": [
        "*Put your code here including your `Step` function.*\n",
        "\n",
        "*You should use these initial parameters:*\n",
        "\n",
        "```python\n",
        "t   = 0    # set the initial time.\n",
        "vel = 2.0  # throwing it into the air at 2 m/s\n",
        "pos = 1.5  #  We threw it while standing from 1.5 meters tall.\n",
        "dt  = 0.01 # We will take time steps of 0.01 seconds.\n",
        "```\n",
        "\n",
        "*and then step it five times in a row to get the answer after $T=0.05$ seconds*\n",
        "\n",
        "```python\n",
        "t,pos,vel=Step(t,pos,vel,dt) # After 0.01 seconds\n",
        "t,pos,vel=Step(t,pos,vel,dt) # After 0.02 seconds\n",
        "t,pos,vel=Step(t,pos,vel,dt) # After 0.03 seconds\n",
        "t,pos,vel=Step(t,pos,vel,dt) # After 0.04 seconds\n",
        "t,pos,vel=Step(t,pos,vel,dt) # After 0.05 seconds\n",
        "```\n",
        "\n",
        "*At the end you should get matching results*\n",
        "```python\n",
        "print(\"t should be 0.05,\\t t=\"      ,round(t,4))\n",
        "print(\"pos should be 1.5902;\\t pos=\",round(pos,4))\n",
        "print(\"vel should be 1.51,\\t vel=\"  ,round(vel,4))\n",
        "```\n",
        "\n",
        "*(You will also include your answer here for switching the 5 steps into a loop)*\n",
        "\n",
        "<div><img src=\"https://clark.physics.illinois.edu/246img/AnsStart.svg\" width=200 align=left alt=\"Answer (start)\"></img><br></div>"
      ]
    },
    {
      "cell_type": "code",
      "execution_count": 13,
      "metadata": {
        "id": "Rrbabnu-LFPH",
        "outputId": "63b51162-d5e3-4e07-ccaa-f6f00b54896b",
        "colab": {
          "base_uri": "https://localhost:8080/"
        }
      },
      "outputs": [
        {
          "output_type": "stream",
          "name": "stdout",
          "text": [
            "t should be 0.05,\t t= 0.05\n",
            "pos should be 1.5902;\t pos= 1.5902\n",
            "vel should be 1.51,\t vel= 1.51\n"
          ]
        }
      ],
      "source": [
        "#### ANSWER HERE\n",
        "def Step(t,pos,vel,dt):\n",
        "  return (t+dt,pos+vel*dt,vel-9.8*dt)\n",
        "t   = 0    # set the initial time.\n",
        "vel = 2.0  # throwing it into the air at 2 m/s\n",
        "pos = 1.5  #  We threw it while standing from 1.5 meters tall.\n",
        "dt  = 0.01 # We will take time steps of 0.01 seconds.\n",
        "T = 0.05\n",
        "for step in range(0,int(round(T/dt))):\n",
        "  t,pos,vel=Step(t,pos,vel,dt)\n",
        "print(\"t should be 0.05,\\t t=\"      ,round(t,4))\n",
        "print(\"pos should be 1.5902;\\t pos=\",round(pos,4))\n",
        "print(\"vel should be 1.51,\\t vel=\"  ,round(vel,4))\n"
      ]
    },
    {
      "cell_type": "markdown",
      "metadata": {
        "id": "okq7NFWGLFPL"
      },
      "source": [
        "<div><img src=\"https://clark.physics.illinois.edu/246img/AnsEnd.svg\" width=200 align=left alt=\"Answer (end)\"></img><br></div>"
      ]
    },
    {
      "cell_type": "markdown",
      "metadata": {
        "id": "guEOIDr5LFPL"
      },
      "source": [
        "If you have this working, you should just go ahead and replace the five steps `t,pos,vel=Step(t,pos,vel,dt)` with a loop that does the same thing.  Your loop should look something like\n",
        "```python\n",
        "T=0.05\n",
        "for step in range(0,int(round(T/dt))):\n",
        "  # do stuff\n",
        "```"
      ]
    },
    {
      "cell_type": "markdown",
      "metadata": {
        "id": "3DYGJG5_LFPM"
      },
      "source": [
        "### b. Euler Integration  in two-dimensions  (first order integrator)\n"
      ]
    },
    {
      "cell_type": "markdown",
      "metadata": {
        "id": "XGkHhf6iLFPM"
      },
      "source": [
        "We know have a `Step` function that allows us to work in one-dimension.  Balls are sometimes thrown in directions other then straight up, though.  Let's modify our code to also work in two dimensions.   In addition to the equation for $a_y,v_y,y$ we can also have a similar set of equation for $a_x,v_x,x$:\n",
        "*  $v_x(t+dt) = v_x(t) + a_x(t) dt$\n",
        "*  $x(t+dt)   = x(t) + v_x(t) dt$\n",
        "\n",
        "It makes sense to write the equations for x and y in a uniform \"vector\" or \"array\" format -i.e.\n",
        "* [$v_x(t+dt),v_y(t+dt)$] = [$v_x(t),v_y(t)$] + [$a_x(t),a_y(t)$] $dt$\n",
        "* [$x(t+dt),y(t+dt)$] = [$x(t),y(t)$] + [$v_x(t),v_y(t)$] $dt$\n",
        "\n",
        "We are now going to modify our `Step` function to work in in two-dimension.  It still is going to look like this:\n",
        "```python\n",
        "def Step(t, pos, vel, dt):\n",
        "    assert(type(pos)==np.ndarray) # checks to see if pos is an array\n",
        "    # do stuff...\n",
        "    return (new_t,new_pos,new_vel)\n",
        "```\n",
        "but this time pos will be a numpy array of [xPosition,yPosition].\n",
        "\n",
        "You could implement this by doing something like this:\n",
        "```\n",
        "pos[0]= pos[0]+ vel[0]*dt\n",
        "pos[1]= pos[1]+ vel[1]*dt\n",
        "```\n",
        "but this is a little bit inelegant.  In particular, if we wanted to move to three dimensions, then we would have change our step function yet again.  We can do this more elegantly by recalling (from the warmup) that you can add and multiply by arrays.  For example `incVel=vel*dt` is equivalent to\n",
        "```\n",
        "incVel[0]=vel[0]*dt\n",
        "incVel[1]=vel[1]*dt\n",
        "```\n",
        "🦉Rewrite your `Step` function to work in two-dimensions and try to avoid ever doing `vel[0]` or `pos[0]` to explicitly take a velocity or position in the x-direction.\n"
      ]
    },
    {
      "cell_type": "markdown",
      "metadata": {
        "id": "mZgxAyr1LFPM"
      },
      "source": [
        "*Put your code here.  You should use the following initial conditions*\n",
        "\n",
        "```python\n",
        "t   = 0 # set t0\n",
        "dt  = 0.01 # time step\n",
        "T = 0.05 # total time to run\n",
        "vel = np.array([0.1,10.])  # initial velocity in m/s\n",
        "pos = np.array([0.0,0.0])  # m\n",
        "```\n",
        "\n",
        "*and test it by using the following at the end*\n",
        "\n",
        "```python\n",
        "### Here we are doing some testing.\n",
        "print(\"t should be 0.05,\\t t=\" ,round(t,4))\n",
        "print(\"[x,y] should be [0.005,0.4902];\\t [x,y]=\" ,pos)\n",
        "print(\"[vx,vy] should be [0.1,9.51],\\t [vx,vy]=\" ,vel)\n",
        "```\n",
        "*to verify you are getting the correct answer.*\n",
        "\n",
        "<div><img src=\"https://clark.physics.illinois.edu/246img/AnsStart.svg\" width=200 align=left alt=\"Answer (start)\"></img><br></div>"
      ]
    },
    {
      "cell_type": "code",
      "execution_count": 14,
      "metadata": {
        "id": "CM2btae7LFPM",
        "outputId": "6e8e0d56-1885-4fcc-fafe-8234b07a799b",
        "colab": {
          "base_uri": "https://localhost:8080/"
        }
      },
      "outputs": [
        {
          "output_type": "stream",
          "name": "stdout",
          "text": [
            "t should be 0.05,\t t= 0.05\n",
            "[x,y] should be [0.005,0.4902];\t [x,y]= [0.005  0.4853]\n",
            "[vx,vy] should be [0.1,9.51],\t [vx,vy]= [0.1  9.51]\n"
          ]
        }
      ],
      "source": [
        "###ANSWER HERE\n",
        "def Step(t,pos,vel,dt):\n",
        "  vel[1]-=9.8*dt\n",
        "  return (t+dt,pos+vel*dt,vel)\n",
        "t   = 0    # set the initial time.\n",
        "vel = np.array([0.1,10.])  # initial velocity in m/s\n",
        "pos = np.array([0.0,0.0])  # m\n",
        "dt  = 0.01 # We will take time steps of 0.01 seconds.\n",
        "T = 0.05 # Total time\n",
        "for step in range(0,int(round(T/dt))):\n",
        "  t,pos,vel=Step(t,pos,vel,dt)\n",
        "print(\"t should be 0.05,\\t t=\" ,round(t,4))\n",
        "print(\"[x,y] should be [0.005,0.4902];\\t [x,y]=\" ,pos)\n",
        "print(\"[vx,vy] should be [0.1,9.51],\\t [vx,vy]=\" ,vel)\n"
      ]
    },
    {
      "cell_type": "markdown",
      "metadata": {
        "id": "to7_Yqu8LFPM"
      },
      "source": [
        "<div><img src=\"https://clark.physics.illinois.edu/246img/AnsEnd.svg\" width=200 align=left alt=\"Answer (end)\"></img><br></div>"
      ]
    },
    {
      "cell_type": "markdown",
      "metadata": {
        "collapsed": true,
        "id": "bSVdDfJ1LFPM"
      },
      "source": [
        "### c.  A full simulation"
      ]
    },
    {
      "cell_type": "markdown",
      "metadata": {
        "id": "FgmMTtFDLFPM"
      },
      "source": [
        "In this part we are going to write a full simulation and compute the path of a ball until it hits the ground. 🦉Write a function `def ThrowBall(initPos,initVel,dt)` which generates a path using your `Step` function and returns a numpy array of times (`np.array(ts)`), velocities (`np.array(vs)`) and positions (`np.array(positions)`)\n",
        "* Initialize your time, height and velocity\n",
        "* Intialize some lists to store your time, height and velocity at each step (i.e. `vs=[]`)\n",
        "* Loop over time steps\n",
        "    * Take a step\n",
        "    * Put the velocity and position into lists (i.e. `velocities.append(v)`)\n",
        "    * If the height is lower then zero, then `break` out of the loop (`if y<0: break`)\n",
        "* Return  np.array of time and position and velocity\n",
        "\n",
        "Also, write a function `def Exact(initPos,initVel,ts)` that returns the exact positions and velocities for all times in the array `ts` (use what you know from Physics 211).\n",
        "\n",
        "A good test is to run it for the same five time steps as above and make sure it produces the same answers as in (c) and puts them into the list.  Also, you can check that your exact and Euler Integration answers are close.\n",
        "\n",
        "\n",
        "\n"
      ]
    },
    {
      "cell_type": "markdown",
      "metadata": {
        "id": "RsJqnVxXLFPN"
      },
      "source": [
        "*Put your code here. Using the same initial conditions as above, print the position and velocities of five steps so we can check that you have the correct answer.*\n",
        "<div><img src=\"https://clark.physics.illinois.edu/246img/AnsStart.svg\" width=200 align=left alt=\"Answer (start)\"></img><br></div>"
      ]
    },
    {
      "cell_type": "code",
      "execution_count": 21,
      "metadata": {
        "id": "JPxlWYsjLFPN",
        "outputId": "aacd1559-168f-434c-f5aa-f635625eb9dc",
        "colab": {
          "base_uri": "https://localhost:8080/",
          "height": 373
        }
      },
      "outputs": [
        {
          "output_type": "stream",
          "name": "stdout",
          "text": [
            "[array([0.005 , 0.4853]), array([0.006  , 0.57942]), array([0.007  , 0.67256]), array([0.008  , 0.76472]), array([0.009 , 0.8559]), array([0.01  , 0.9461])]\n"
          ]
        },
        {
          "output_type": "error",
          "ename": "TypeError",
          "evalue": "can't multiply sequence by non-int of type 'float'",
          "traceback": [
            "\u001b[0;31m---------------------------------------------------------------------------\u001b[0m",
            "\u001b[0;31mTypeError\u001b[0m                                 Traceback (most recent call last)",
            "\u001b[0;32m<ipython-input-21-53e0d7f34211>\u001b[0m in \u001b[0;36m<cell line: 0>\u001b[0;34m()\u001b[0m\n\u001b[1;32m     21\u001b[0m   \u001b[0minitPos\u001b[0m\u001b[0;34m[\u001b[0m\u001b[0;36m1\u001b[0m\u001b[0;34m]\u001b[0m\u001b[0;34m=\u001b[0m\u001b[0minitVel\u001b[0m\u001b[0;34m[\u001b[0m\u001b[0;36m0\u001b[0m\u001b[0;34m]\u001b[0m\u001b[0;34m*\u001b[0m\u001b[0mts\u001b[0m\u001b[0;34m-\u001b[0m\u001b[0;36m4.9\u001b[0m\u001b[0;34m*\u001b[0m\u001b[0mpow\u001b[0m\u001b[0;34m(\u001b[0m\u001b[0mts\u001b[0m\u001b[0;34m,\u001b[0m\u001b[0;36m2\u001b[0m\u001b[0;34m)\u001b[0m\u001b[0;34m\u001b[0m\u001b[0;34m\u001b[0m\u001b[0m\n\u001b[1;32m     22\u001b[0m   \u001b[0;32mreturn\u001b[0m\u001b[0;34m(\u001b[0m\u001b[0minitPos\u001b[0m\u001b[0;34m,\u001b[0m\u001b[0minitVel\u001b[0m\u001b[0;34m)\u001b[0m\u001b[0;34m\u001b[0m\u001b[0;34m\u001b[0m\u001b[0m\n\u001b[0;32m---> 23\u001b[0;31m \u001b[0mt\u001b[0m\u001b[0;34m,\u001b[0m\u001b[0mpos\u001b[0m\u001b[0;34m,\u001b[0m\u001b[0mvel\u001b[0m \u001b[0;34m=\u001b[0m \u001b[0mThrowBall\u001b[0m\u001b[0;34m(\u001b[0m\u001b[0mpos\u001b[0m\u001b[0;34m,\u001b[0m\u001b[0mvel\u001b[0m\u001b[0;34m,\u001b[0m\u001b[0mdt\u001b[0m\u001b[0;34m)\u001b[0m\u001b[0;34m\u001b[0m\u001b[0;34m\u001b[0m\u001b[0m\n\u001b[0m\u001b[1;32m     24\u001b[0m \u001b[0mprint\u001b[0m\u001b[0;34m(\u001b[0m\u001b[0;34m\"t = \"\u001b[0m\u001b[0;34m,\u001b[0m\u001b[0mt\u001b[0m\u001b[0;34m)\u001b[0m\u001b[0;34m\u001b[0m\u001b[0;34m\u001b[0m\u001b[0m\n\u001b[1;32m     25\u001b[0m \u001b[0mprint\u001b[0m\u001b[0;34m(\u001b[0m\u001b[0;34m\"pos = \"\u001b[0m\u001b[0;34m,\u001b[0m\u001b[0mpos\u001b[0m\u001b[0;34m)\u001b[0m\u001b[0;34m\u001b[0m\u001b[0;34m\u001b[0m\u001b[0m\n",
            "\u001b[0;32m<ipython-input-21-53e0d7f34211>\u001b[0m in \u001b[0;36mThrowBall\u001b[0;34m(initPos, initVel, dt)\u001b[0m\n\u001b[1;32m      9\u001b[0m   \u001b[0;32mwhile\u001b[0m \u001b[0;32mTrue\u001b[0m\u001b[0;34m:\u001b[0m\u001b[0;34m\u001b[0m\u001b[0;34m\u001b[0m\u001b[0m\n\u001b[1;32m     10\u001b[0m     \u001b[0mprint\u001b[0m\u001b[0;34m(\u001b[0m\u001b[0mcurrPos\u001b[0m\u001b[0;34m)\u001b[0m\u001b[0;34m\u001b[0m\u001b[0;34m\u001b[0m\u001b[0m\n\u001b[0;32m---> 11\u001b[0;31m     \u001b[0mcurrTime\u001b[0m\u001b[0;34m,\u001b[0m\u001b[0mcurrPos\u001b[0m\u001b[0;34m,\u001b[0m\u001b[0mcurrVel\u001b[0m \u001b[0;34m=\u001b[0m \u001b[0mStep\u001b[0m\u001b[0;34m(\u001b[0m\u001b[0mcurrTime\u001b[0m\u001b[0;34m,\u001b[0m\u001b[0mcurrPos\u001b[0m\u001b[0;34m,\u001b[0m\u001b[0mcurrVel\u001b[0m\u001b[0;34m,\u001b[0m\u001b[0mdt\u001b[0m\u001b[0;34m)\u001b[0m\u001b[0;34m\u001b[0m\u001b[0;34m\u001b[0m\u001b[0m\n\u001b[0m\u001b[1;32m     12\u001b[0m     \u001b[0mtimeOverTime\u001b[0m\u001b[0;34m.\u001b[0m\u001b[0mappend\u001b[0m\u001b[0;34m(\u001b[0m\u001b[0mcurrTime\u001b[0m\u001b[0;34m)\u001b[0m\u001b[0;34m\u001b[0m\u001b[0;34m\u001b[0m\u001b[0m\n\u001b[1;32m     13\u001b[0m     \u001b[0mposOverTime\u001b[0m\u001b[0;34m.\u001b[0m\u001b[0mappend\u001b[0m\u001b[0;34m(\u001b[0m\u001b[0mcurrPos\u001b[0m\u001b[0;34m)\u001b[0m\u001b[0;34m\u001b[0m\u001b[0;34m\u001b[0m\u001b[0m\n",
            "\u001b[0;32m<ipython-input-14-7ebb445169fd>\u001b[0m in \u001b[0;36mStep\u001b[0;34m(t, pos, vel, dt)\u001b[0m\n\u001b[1;32m      2\u001b[0m \u001b[0;32mdef\u001b[0m \u001b[0mStep\u001b[0m\u001b[0;34m(\u001b[0m\u001b[0mt\u001b[0m\u001b[0;34m,\u001b[0m\u001b[0mpos\u001b[0m\u001b[0;34m,\u001b[0m\u001b[0mvel\u001b[0m\u001b[0;34m,\u001b[0m\u001b[0mdt\u001b[0m\u001b[0;34m)\u001b[0m\u001b[0;34m:\u001b[0m\u001b[0;34m\u001b[0m\u001b[0;34m\u001b[0m\u001b[0m\n\u001b[1;32m      3\u001b[0m   \u001b[0mvel\u001b[0m\u001b[0;34m[\u001b[0m\u001b[0;36m1\u001b[0m\u001b[0;34m]\u001b[0m\u001b[0;34m-=\u001b[0m\u001b[0;36m9.8\u001b[0m\u001b[0;34m*\u001b[0m\u001b[0mdt\u001b[0m\u001b[0;34m\u001b[0m\u001b[0;34m\u001b[0m\u001b[0m\n\u001b[0;32m----> 4\u001b[0;31m   \u001b[0;32mreturn\u001b[0m \u001b[0;34m(\u001b[0m\u001b[0mt\u001b[0m\u001b[0;34m+\u001b[0m\u001b[0mdt\u001b[0m\u001b[0;34m,\u001b[0m\u001b[0mpos\u001b[0m\u001b[0;34m+\u001b[0m\u001b[0mvel\u001b[0m\u001b[0;34m*\u001b[0m\u001b[0mdt\u001b[0m\u001b[0;34m,\u001b[0m\u001b[0mvel\u001b[0m\u001b[0;34m)\u001b[0m\u001b[0;34m\u001b[0m\u001b[0;34m\u001b[0m\u001b[0m\n\u001b[0m\u001b[1;32m      5\u001b[0m \u001b[0mt\u001b[0m   \u001b[0;34m=\u001b[0m \u001b[0;36m0\u001b[0m    \u001b[0;31m# set the initial time.\u001b[0m\u001b[0;34m\u001b[0m\u001b[0;34m\u001b[0m\u001b[0m\n\u001b[1;32m      6\u001b[0m \u001b[0mvel\u001b[0m \u001b[0;34m=\u001b[0m \u001b[0mnp\u001b[0m\u001b[0;34m.\u001b[0m\u001b[0marray\u001b[0m\u001b[0;34m(\u001b[0m\u001b[0;34m[\u001b[0m\u001b[0;36m0.1\u001b[0m\u001b[0;34m,\u001b[0m\u001b[0;36m10.\u001b[0m\u001b[0;34m]\u001b[0m\u001b[0;34m)\u001b[0m  \u001b[0;31m# initial velocity in m/s\u001b[0m\u001b[0;34m\u001b[0m\u001b[0;34m\u001b[0m\u001b[0m\n",
            "\u001b[0;31mTypeError\u001b[0m: can't multiply sequence by non-int of type 'float'"
          ]
        }
      ],
      "source": [
        "###ANSWER HERE\n",
        "def ThrowBall(initPos,initVel,dt):\n",
        "  currTime = 0\n",
        "  currPos = initPos\n",
        "  currVel = initVel\n",
        "  timeOverTime = np.array(currTime)\n",
        "  posOverTime = np.array(currPos)\n",
        "  velOverTime = np.array(currVel)\n",
        "  while True:\n",
        "    print(currPos)\n",
        "    currTime,currPos,currVel = Step(currTime,currPos,currVel,dt)\n",
        "    timeOverTime.append(currTime)\n",
        "    posOverTime.append(currPos)\n",
        "    velOverTime.append(currVel)\n",
        "    if currPos[1] < 0: break\n",
        "  return(timeOverTime,posOverTime,velOverTime)\n",
        "\n",
        "def Exact(initPos,initVel,ts):\n",
        "  initVel[1]-=9.8*ts\n",
        "  initPos[0]=initVel[0]*ts\n",
        "  initPos[1]=initVel[0]*ts-4.9*pow(ts,2)\n",
        "  return(initPos,initVel)\n",
        "t,pos,vel = ThrowBall(pos,vel,dt)\n",
        "print(\"t = \",t)\n",
        "print(\"pos = \",pos)\n",
        "print(\"vel = \",vel)\n"
      ]
    },
    {
      "cell_type": "markdown",
      "metadata": {
        "id": "WVAp4K2VLFPN"
      },
      "source": [
        "<div><img src=\"https://clark.physics.illinois.edu/246img/AnsEnd.svg\" width=200 align=left alt=\"Answer (end)\"></img><br></div>"
      ]
    },
    {
      "cell_type": "markdown",
      "metadata": {
        "id": "idBthpw4LFPN"
      },
      "source": [
        "### d. Making Plots"
      ]
    },
    {
      "cell_type": "markdown",
      "metadata": {
        "id": "WvmPD7Q0LFPN"
      },
      "source": [
        "We want to plot\n",
        "* $y$ vs. $t$ (i.e. `plt.plot(ts,positions[:,1],label='first order integrator')`). Note that `x=positions[:,0]` and `y=positions[:,1]`.\n",
        "* $v_y$ vs $t$\n",
        "* $y$ vs. $x$\n",
        "\n",
        "for both the exact and approximate curves.\n",
        "\n",
        "You must label your axis (`plt.xlabel(\"fixMyLabel\")`)\n",
        "\n",
        "Put on each of your plots the exact answer computed using formulas you know from Physics 211 (i.e. `plt.plot(ts,exact,label=\"Exact Answer\")`.  Use `plt.legend()` to generate a legend so we know which line is which.\n",
        "\n",
        "\n",
        "\n",
        "Your exact and integrator curves should look very similar but not exactly on top of each other (for the position).\n"
      ]
    },
    {
      "cell_type": "markdown",
      "metadata": {
        "id": "amAGDvDmLFPN"
      },
      "source": [
        "*Put the code which generates the plots (and the plots) here.*\n",
        "<div><img src=\"https://clark.physics.illinois.edu/246img/AnsStart.svg\" width=200 align=left alt=\"Answer (start)\"></img><br></div>"
      ]
    },
    {
      "cell_type": "code",
      "execution_count": 16,
      "metadata": {
        "id": "-dN31jPrLFPN"
      },
      "outputs": [],
      "source": [
        "### ANSWER HERE"
      ]
    },
    {
      "cell_type": "markdown",
      "metadata": {
        "id": "Ixo5I1xzLFPN"
      },
      "source": [
        "<div><img src=\"https://clark.physics.illinois.edu/246img/AnsEnd.svg\" width=200 align=left alt=\"Answer (end)\"></img><br></div>"
      ]
    },
    {
      "cell_type": "markdown",
      "metadata": {
        "id": "GsnhNZTnLFPN"
      },
      "source": [
        "### e.  Animation"
      ]
    },
    {
      "cell_type": "markdown",
      "metadata": {
        "id": "gfasCdp1LFPN"
      },
      "source": [
        "If you send `animateMe` the list of positions it will animate them.  You shouldn't have to change any code here as long as you've got a list of positions in the array `positions`. 🦉Go ahead and watch your thrown ball!  **There is five points extra credit for anyone who gets the animation to actually run in time proportional to the total time the ball is in the air.  I haven't thought about how to do this so I'm not sure how hard it is (or if it's possible)**"
      ]
    },
    {
      "cell_type": "markdown",
      "metadata": {
        "id": "xVNIR2cVLFPO"
      },
      "source": [
        "*You just have to run this code and then play the animation to generate it.*\n",
        "<div><img src=\"https://clark.physics.illinois.edu/246img/AnsStart.svg\" width=200 align=left alt=\"Answer (start)\"></img><br></div>"
      ]
    },
    {
      "cell_type": "code",
      "execution_count": 17,
      "metadata": {
        "tags": [
          "hide-cell"
        ],
        "id": "OA2wltypLFPO",
        "outputId": "580b7566-eba7-458b-83d8-c4e641502832",
        "colab": {
          "base_uri": "https://localhost:8080/",
          "height": 193
        }
      },
      "outputs": [
        {
          "output_type": "error",
          "ename": "NameError",
          "evalue": "name 'positions' is not defined",
          "traceback": [
            "\u001b[0;31m---------------------------------------------------------------------------\u001b[0m",
            "\u001b[0;31mNameError\u001b[0m                                 Traceback (most recent call last)",
            "\u001b[0;32m<ipython-input-17-a84d4e44732c>\u001b[0m in \u001b[0;36m<cell line: 0>\u001b[0;34m()\u001b[0m\n\u001b[1;32m     38\u001b[0m     \u001b[0;32mreturn\u001b[0m \u001b[0manim\u001b[0m\u001b[0;34m\u001b[0m\u001b[0;34m\u001b[0m\u001b[0m\n\u001b[1;32m     39\u001b[0m \u001b[0;34m\u001b[0m\u001b[0m\n\u001b[0;32m---> 40\u001b[0;31m \u001b[0manim\u001b[0m\u001b[0;34m=\u001b[0m\u001b[0manimateMe\u001b[0m\u001b[0;34m(\u001b[0m\u001b[0mpositions\u001b[0m\u001b[0;34m,\u001b[0m\u001b[0;32mTrue\u001b[0m\u001b[0;34m)\u001b[0m\u001b[0;34m\u001b[0m\u001b[0;34m\u001b[0m\u001b[0m\n\u001b[0m\u001b[1;32m     41\u001b[0m \u001b[0mHTML\u001b[0m\u001b[0;34m(\u001b[0m\u001b[0manim\u001b[0m\u001b[0;34m.\u001b[0m\u001b[0mto_jshtml\u001b[0m\u001b[0;34m(\u001b[0m\u001b[0;34m)\u001b[0m\u001b[0;34m)\u001b[0m\u001b[0;34m\u001b[0m\u001b[0;34m\u001b[0m\u001b[0m\n",
            "\u001b[0;31mNameError\u001b[0m: name 'positions' is not defined"
          ]
        }
      ],
      "source": [
        "from matplotlib import animation\n",
        "from IPython.display import HTML\n",
        "\n",
        "def animateMe(positions,fullLine=True):\n",
        "    # First set up the figure, the axis, and the plot element we want to animate\n",
        "    fig = plt.figure();\n",
        "    x_min=np.min(positions[:,0])\n",
        "    x_max=np.max(positions[:,0])*1.1\n",
        "    y_min=np.min(positions[:,1])\n",
        "    y_max=np.max(positions[:,1])*1.1\n",
        "\n",
        "    ax = plt.axes(xlim=(x_min, x_max), ylim=(y_min, y_max));\n",
        "    #line, = ax.plot([], [], lw=2);\n",
        "    line, = ax.plot([], [],'bo', ms=10);\n",
        "    ax.set_xlabel(\"x\")\n",
        "    ax.set_ylabel(\"y\")\n",
        "    plt.close(fig)\n",
        "    # initialization function: plot the background of each frame\n",
        "    def init():\n",
        "        line.set_data([], [])\n",
        "        return line,\n",
        "\n",
        "    # animation function.  This is called sequentially\n",
        "    def animate(i):\n",
        "        x = positions[:,0]\n",
        "        y = positions[:,1]\n",
        "        if fullLine:\n",
        "            line.set_data(positions[0:i,0], positions[0:i,1])\n",
        "        else:\n",
        "            line.set_data(positions[i,0], positions[i,1])\n",
        "#        line.set_markersize(10)\n",
        "        return line,\n",
        "\n",
        "    # call the animator.  blit=True means only re-draw the parts that have changed.\n",
        "    anim = animation.FuncAnimation(fig, animate, init_func=init,\n",
        "                                   frames=len(positions), interval=20,\n",
        "                                   blit=True,repeat=False);\n",
        "    return anim\n",
        "\n",
        "anim=animateMe(positions,True)\n",
        "HTML(anim.to_jshtml())\n"
      ]
    },
    {
      "cell_type": "markdown",
      "metadata": {
        "id": "plM5h48ZLFPO"
      },
      "source": [
        "<div><img src=\"https://clark.physics.illinois.edu/246img/AnsEnd.svg\" width=200 align=left alt=\"Answer (end)\"></img><br></div>"
      ]
    },
    {
      "cell_type": "markdown",
      "metadata": {
        "id": "vSGmotY_LFPO"
      },
      "source": [
        "### f. Errors"
      ]
    },
    {
      "cell_type": "markdown",
      "metadata": {
        "id": "Q60aqyqhLFPO"
      },
      "source": [
        "In this section, we'd like to understand the error of your integrator.  \n",
        "\n",
        "We'd like to figure out two things.  First, how does the error accumulate as a function of time (when we fix $dt$)?  \n",
        "\n",
        "Secondly, if we run a bunch of simulations to a total time $T=1.28$ using different time-steps $dt$,  how does the error change with $dt$?\n",
        "\n",
        "We will only concern ourselves with the difference between the Euler-integrator $y$ position and the exact $y$ position (i.e. we will ignore the $x$ position and velocity $v$).\n",
        "\n",
        "For this problem, you can use the same initial conditions you've been using in the previous sections.\n",
        "\n",
        "🦉To make the first plot, write a function `def PlotErrorWithTime(ts,integratorY,exactY)` which plots the difference $y_\\textrm{Euler}(t) - y_\\textrm{exact}(t)$ as a function of time $t$. Then run your integrator, compute the exact, and call your function.   What you will find is that the error grows linearly with $t$.  This makes sense because each step makes an error and so cumulatively the total amount of error grows linearly. That means the longer you run your system, the larger error that you get. This linear growth will be true for almost any integrator that we use (although something special will go on for symplectic integrators).\n",
        "\n",
        "🦉For your second plot, write a function `def PlotErrorWithdt()`.  This one will do all the running of your integrator inside of it.   To make the second plot, you need to figure out when your simulation hit $T=1.28$.  Write a function `FindIndex(targetT,ts)` which finds the index in the array `ts` which is closest to `targetT`.\n",
        "\n",
        "Then you can make the second plot by  plotting\n",
        "```python\n",
        "myIndex=FindIndex(1.28,ts)\n",
        "plt.plot([dt],[positions[:,1][myIndex]],'o')\n",
        "```\n",
        "for each value of $dt \\in \\{0.32,0.16,0.08,0.04,0.02,0.01,0.005\\}$\n",
        "\n",
        "While the error with time is always linear, the error with $dt$ can change depending on the quality of your integrator.  For the Euler-integrator you will find that the error with $dt$ is also linear telling you that you are working with a first order integrator.\n",
        "\n"
      ]
    },
    {
      "cell_type": "markdown",
      "metadata": {
        "id": "Y8sEyxAKLFPO"
      },
      "source": [
        "*Put the two plots (and the code to generate them) here.*\n",
        "\n",
        "<div><img src=\"https://clark.physics.illinois.edu/246img/AnsStart.svg\" width=200 align=left alt=\"Answer (start)\"></img><br></div>"
      ]
    },
    {
      "cell_type": "code",
      "execution_count": null,
      "metadata": {
        "id": "MEr3yLDTLFPO"
      },
      "outputs": [],
      "source": [
        "### ANSWER HERE"
      ]
    },
    {
      "cell_type": "markdown",
      "metadata": {
        "id": "vvXMc7sKLFPO"
      },
      "source": [
        "<div><img src=\"https://clark.physics.illinois.edu/246img/AnsEnd.svg\" width=200 align=left alt=\"Answer (end)\"></img><br></div>"
      ]
    },
    {
      "cell_type": "markdown",
      "metadata": {
        "id": "7FN2kk04LFPO"
      },
      "source": [
        "### g. Energy"
      ]
    },
    {
      "cell_type": "markdown",
      "metadata": {
        "id": "U6lq997TLFPO"
      },
      "source": [
        "\n",
        "Another important way of checking things is to verify certain physics isn't broken.\n",
        "\n",
        "One of the things that should be true of the thrown ball is the energy should be constant. Recall that the energy should be\n",
        "\n",
        "$$ E = K + U = \\frac{1}{2}mv^2 + mgy$$\n",
        "\n",
        "where $g=9.8$\n",
        "\n",
        "🦉Write below a function that takes a list of positions and velocities and returns a list of energy. You can assume that $m=1.$ Then plot the energy vs time of the ball thrown in the air with your integrator.\n",
        "\n",
        "What you should see is that the energy says largely constant over time.  If we were doing everything exactly right (had a perfect integrator), it would stay constant over time.  Because our approach is not perfect, there is a tiny bit of drift in the energy.\n",
        "\n",
        "*Hint:*  the energy is around 50"
      ]
    },
    {
      "cell_type": "markdown",
      "metadata": {
        "id": "iUqoSohqLFPO"
      },
      "source": [
        "*Put here the energy as a function of time.  Make sure you look at your scale.  It might look like it's changing a little bit as long as it stays close to 50. Use the same initial conditions as earlier.*\n",
        "\n",
        "<div><img src=\"https://clark.physics.illinois.edu/246img/AnsStart.svg\" width=200 align=left alt=\"Answer (start)\"></img><br></div>"
      ]
    },
    {
      "cell_type": "code",
      "execution_count": null,
      "metadata": {
        "scrolled": true,
        "id": "3Ely6leVLFPP"
      },
      "outputs": [],
      "source": [
        "### ANSWER HERE"
      ]
    },
    {
      "cell_type": "markdown",
      "metadata": {
        "id": "rsY2nPwyLFPP"
      },
      "source": [
        "<div><img src=\"https://clark.physics.illinois.edu/246img/AnsEnd.svg\" width=200 align=left alt=\"Answer (end)\"></img><br></div>"
      ]
    },
    {
      "cell_type": "markdown",
      "metadata": {
        "id": "cWW01_9YLFPP"
      },
      "source": [
        "---\n",
        "---\n",
        "---"
      ]
    },
    {
      "cell_type": "markdown",
      "metadata": {
        "heading_collapsed": true,
        "id": "d0ujJWcXLFPP"
      },
      "source": [
        "## Exercise 2: Air resistance"
      ]
    },
    {
      "cell_type": "markdown",
      "metadata": {
        "hidden": true,
        "id": "4b5RG396LFPP"
      },
      "source": [
        "* **List of collaborators:**\n",
        "\n",
        "* **References you used in developing your code:**"
      ]
    },
    {
      "cell_type": "markdown",
      "metadata": {
        "hidden": true,
        "id": "GEbyXrcRLFPP"
      },
      "source": [
        "In this exercise we have two goals.\n",
        "\n",
        "* One goal is to clean up our code so that it is more general.  We have a lot of hard-coded things running around and so we want to get rid of that.\n",
        "\n",
        "* Our second goal is to modify our code so that it can work with air resistance.  We will be able to see how air resistance affects balls flying through the air.  We can also see how a dropped ball reaches terminal velocity.   "
      ]
    },
    {
      "cell_type": "markdown",
      "metadata": {
        "hidden": true,
        "id": "SJ7E7bzkLFPP"
      },
      "source": [
        "### a. Code Modifications"
      ]
    },
    {
      "cell_type": "markdown",
      "metadata": {
        "hidden": true,
        "id": "TtiGs6DjLFPP"
      },
      "source": [
        "In this section you are going to modify your code to compute dynamics with air resistance.  While doing so you are going to make the code a bit more general.  At the moment, we have defined the mass `m` in the middle of our function.  We also hard-coded the force.  When we are going to work with air resistance, we are going to have to define a constant `b`.  It's going to get annoying to carry these all around.  In this part, we are going to pull out a function for the force `F(t,pos,vel,params)` that you should call (instead of writing `a=-9.8`.) We  will now pass around a dictionary `params` that gives us access to these parameters.   You will then be able to get to your paramaters by doing things like\n",
        "```python\n",
        "params['b']\n",
        "```\n",
        "🦉Go ahead and modify your old code to work in this way.  In addition, modify the force to be of the form\n",
        "`np.array([-b*v_x,-b*v_y-9.8*m])`.\n",
        "\n",
        "\n",
        "Changes from previous code:\n",
        "* Switch everything to use params\n",
        "* Add a new force function and add air resistance to it.\n",
        "\n",
        "\n",
        "**Nowhere in your code is it allowed to say `m=1` or `b=0.1` or `dt=0.01`. This must now be all set with `params`.**"
      ]
    },
    {
      "cell_type": "markdown",
      "metadata": {
        "id": "MyM5L8dMLFPP"
      },
      "source": [
        "*Put your new code here. You don't have to produce any output (you will produce graphs below)*\n",
        "\n",
        "<div><img src=\"https://clark.physics.illinois.edu/246img/AnsStart.svg\" width=200 align=left alt=\"Answer (start)\"></img><br></div>"
      ]
    },
    {
      "cell_type": "code",
      "execution_count": null,
      "metadata": {
        "hidden": true,
        "id": "zNu_qvagLFPP"
      },
      "outputs": [],
      "source": [
        "resetMe()\n",
        "### ANSWER HERE"
      ]
    },
    {
      "cell_type": "markdown",
      "metadata": {
        "id": "Z3G69zXaLFPP"
      },
      "source": [
        "<div><img src=\"https://clark.physics.illinois.edu/246img/AnsEnd.svg\" width=200 align=left alt=\"Answer (end)\"></img><br></div>"
      ]
    },
    {
      "cell_type": "markdown",
      "metadata": {
        "hidden": true,
        "id": "Wvx2IC7xLFPP"
      },
      "source": [
        "### b.  Running and making Plots for Throwing a Ball"
      ]
    },
    {
      "cell_type": "markdown",
      "metadata": {
        "hidden": true,
        "id": "gs2o6oRhLFPP"
      },
      "source": [
        "🦉Here we want you to throw a ball in the air and make plots\n",
        "* $y$ vs. time\n",
        "* $y$ vs $x$\n",
        "\n",
        "that includes (on the same plot) both the ball with air resistance and without air resistance. To label which is which you can do `plt.plot(x,y,label=\"Air Resistance\")`   and then call `plt.legend(loc=0)`\n",
        "\n",
        "Does it make any sense?  Does the ball with air resistance fly further or less far?"
      ]
    },
    {
      "cell_type": "markdown",
      "metadata": {
        "id": "ln3rhAuoLFPP"
      },
      "source": [
        "*Put here your two graphs (and the code to generate them) showing how the air resistance changes the flight of the ball.  You can write the dictionary of your initial parameters by doing*\n",
        "\n",
        "```python\n",
        "params ={ #another way of writing a dictionary\n",
        "'b'  :0.,\n",
        "\"m\"  :1.0,\n",
        "\"initPos\" : np.array([0.0,0.0]),\n",
        "\"initVel\" : np.array([0.1,10.0]),\n",
        "\"dt\" : 0.01\n",
        "        }\n",
        "```\n",
        "\n",
        "*Remember to change the value of `b` (you can do this by `params[\"b\"]=0.1`) when you want to run it with air resistance on.*\n",
        "<div><img src=\"https://clark.physics.illinois.edu/246img/AnsStart.svg\" width=200 align=left alt=\"Answer (start)\"></img><br></div>"
      ]
    },
    {
      "cell_type": "code",
      "execution_count": null,
      "metadata": {
        "hidden": true,
        "id": "1QjN_lu7LFPP"
      },
      "outputs": [],
      "source": [
        "### ANSWER HERE"
      ]
    },
    {
      "cell_type": "markdown",
      "metadata": {
        "id": "TbHOJJQKLFPQ"
      },
      "source": [
        "<div><img src=\"https://clark.physics.illinois.edu/246img/AnsEnd.svg\" width=200 align=left alt=\"Answer (end)\"></img><br></div>"
      ]
    },
    {
      "cell_type": "markdown",
      "metadata": {
        "hidden": true,
        "id": "RiToVftsLFPQ"
      },
      "source": [
        "### c.   Running and making plots for dropping a ball."
      ]
    },
    {
      "cell_type": "markdown",
      "metadata": {
        "hidden": true,
        "id": "nv19z89uLFPQ"
      },
      "source": [
        "Now we would like you to set up a simulation which has a ball being dropped.  The ball should have a mass of 1.0 kg and be dropped from a height of 1000 meters.  The air resistance value of $b$ should be 0.3.  Use again a time-step of 0.01.  \n",
        "\n",
        "🦉We want you to plot\n",
        "* $y$ vs. $t$\n",
        "* $v_y$ vs $t$.\n",
        "\n",
        "We want you to see that the $y$-velocity reaches a terminal velocity (i.e. you stop picking up speed as the object is falling).  🦉Calculate by hand what the terminal velocity should be (consider when the force due to gravity and due to air reistance is the same) and draw a dotted line at this value on the plot (i.e. `plt.axhline(terminalVelocity,linestyle='--')`.  "
      ]
    },
    {
      "cell_type": "markdown",
      "metadata": {
        "id": "PbfQBksSLFPQ"
      },
      "source": [
        "*Plots and graph here.*\n",
        "<div><img src=\"https://clark.physics.illinois.edu/246img/AnsStart.svg\" width=200 align=left alt=\"Answer (start)\"></img><br></div>"
      ]
    },
    {
      "cell_type": "code",
      "execution_count": null,
      "metadata": {
        "hidden": true,
        "id": "7n-_rBTELFPQ"
      },
      "outputs": [],
      "source": [
        "### ANSWER HERE"
      ]
    },
    {
      "cell_type": "markdown",
      "metadata": {
        "id": "rtP5qQ09LFPQ"
      },
      "source": [
        "<div><img src=\"https://clark.physics.illinois.edu/246img/AnsEnd.svg\" width=200 align=left alt=\"Answer (end)\"></img><br></div>"
      ]
    },
    {
      "cell_type": "markdown",
      "metadata": {
        "hidden": true,
        "id": "Gs__2AqILFPQ"
      },
      "source": [
        "### d. Hitting a target"
      ]
    },
    {
      "cell_type": "markdown",
      "metadata": {
        "hidden": true,
        "id": "w4ya3kW2LFPQ"
      },
      "source": [
        "Let's suppose we want to throw a ball starting at position $(0,0)$ with some initial velocity `v0` (*which you will find*) and have it hit a target on the ground at position $(10.0,0.0)$ m. Let $b=3.0$ and $m=1.0$.  You may again use $dt=0.01$.  **We are going to use `scipy.optimize.minimize` to find the initial velocity.** The library `scipy.optimize` is generically useful.  \n",
        "\n",
        "To achieve this, first write a function `def myTarget(v,params):` which takes an initial velociy and a `params` dictionary.  The function should return how far (in absolute magnitude) a ball thrown with the parameters in `params` lands from the target (if included, ignore the initial velocity in params).  \n",
        "\n",
        "Then you can call\n",
        "```python\n",
        "ans=scipy.optimize.minimize(myTarget,\n",
        "                            params['initVel'],\n",
        "                            args=params,\n",
        "                            method='Nelder-Mead',\n",
        "                            options={'disp': True})\n",
        "```\n",
        "\n",
        "and the values in `ans.x` should be the velocity you found.\n",
        "\n",
        "🦉Go ahead and graph the curve you find to make sure it hits close to the target.  Report your initial velocity."
      ]
    },
    {
      "cell_type": "markdown",
      "metadata": {
        "id": "6gJPPktaLFPQ"
      },
      "source": [
        "*Plot and graph here. You want to have* `print(ans.x)` *at the end so we can see what your results are.*\n",
        "\n",
        "<div><img src=\"https://clark.physics.illinois.edu/246img/AnsStart.svg\" width=200 align=left alt=\"Answer (start)\"></img><br></div>"
      ]
    },
    {
      "cell_type": "code",
      "execution_count": null,
      "metadata": {
        "hidden": true,
        "id": "ScrXsIeXLFPQ"
      },
      "outputs": [],
      "source": [
        "### ANSWER HERE"
      ]
    },
    {
      "cell_type": "markdown",
      "metadata": {
        "id": "bgMZ7q7zLFPQ"
      },
      "source": [
        "<div><img src=\"https://clark.physics.illinois.edu/246img/AnsEnd.svg\" width=200 align=left alt=\"Answer (end)\"></img><br></div>"
      ]
    },
    {
      "cell_type": "markdown",
      "metadata": {
        "hidden": true,
        "id": "GT0gKgS1LFPQ"
      },
      "source": [
        "### e. Hitting a moving target (extra credit: 5 points)"
      ]
    },
    {
      "cell_type": "markdown",
      "metadata": {
        "hidden": true,
        "id": "wstMfZA7LFPQ"
      },
      "source": [
        "Here we want to launch two balls. One has fixed parameters\n",
        "```python\n",
        "params={\n",
        "    'b' : 3.0,\n",
        "    'm' : 1.0,\n",
        "    'initPos' : np.array([0.0,0.0]),\n",
        "    'initVel' : np.array([10.0,10.0]),\n",
        "    'dt'    : 0.01,\n",
        "    'target': 14.5\n",
        "}\n",
        "```\n",
        "The other has the following parameters but you can optimize the initial velocity\n",
        "```python\n",
        "paramsB={\n",
        "    'b' : 3.0,\n",
        "    'm' : 1.0,\n",
        "    'initPos' : np.array([10.0,2.0]),\n",
        "    'initVel' : np.array([-1.0,1.0]),\n",
        "    'dt'    : 0.01,\n",
        "    'target': 14.5\n",
        "}\n",
        "```\n",
        "🦉Figure out how to tune the initial velocity of the second ball so that the two balls collide **in the air**.  Report your initial velocity and convince us that it actually worked.\n"
      ]
    },
    {
      "cell_type": "markdown",
      "metadata": {
        "id": "-C8EYrOYLFPR"
      },
      "source": [
        "*Put your code and graph here.  This is a little tricky since both balls are flying.*\n",
        "<div><img src=\"https://clark.physics.illinois.edu/246img/AnsStart.svg\" width=200 align=left alt=\"Answer (start)\"></img><br></div>"
      ]
    },
    {
      "cell_type": "code",
      "execution_count": null,
      "metadata": {
        "hidden": true,
        "id": "vmsOsbMPLFPR"
      },
      "outputs": [],
      "source": [
        "### ANSWER HERE"
      ]
    },
    {
      "cell_type": "markdown",
      "metadata": {
        "id": "JQ_ifWarLFPR"
      },
      "source": [
        "<div><img src=\"https://clark.physics.illinois.edu/246img/AnsEnd.svg\" width=200 align=left alt=\"Answer (end)\"></img><br></div>"
      ]
    },
    {
      "cell_type": "code",
      "execution_count": null,
      "metadata": {
        "hidden": true,
        "id": "5D-l3Zy9LFPR"
      },
      "outputs": [],
      "source": []
    },
    {
      "cell_type": "markdown",
      "metadata": {
        "heading_collapsed": true,
        "id": "Z-J48W2zLFPR"
      },
      "source": [
        "## Exercise 3:  Second Order Integrators"
      ]
    },
    {
      "cell_type": "markdown",
      "metadata": {
        "hidden": true,
        "id": "YISkAf-4LFPR"
      },
      "source": [
        "* **List of collaborators:**\n",
        "\n",
        "* **References you used in developing your code:**"
      ]
    },
    {
      "cell_type": "markdown",
      "metadata": {
        "hidden": true,
        "id": "BNq6Go5YLFPR"
      },
      "source": [
        "We saw that the first-order integrator we wrote to get to a time $T$ had errors that scaled as $dt$.  In this exercise we are going to develop a integrator which scales as $dt^2$.  \n",
        "\n",
        "In our first order technique we had used the position and the velocity at the start of an interval to estimate the force that would act during the interval. We then pretended that the force $F$ and velocity $v$  would remain constant during the interval so that we could calculate the increments to position and velocity as $dx = v(t) dt$ and $dv = [F(x,v,t)/m]dt.$  It was only at the end of each interval that we updated the position and the velocity by adding the increments to them.\n",
        "\n",
        "We can improve the precision of our integrations by estimating the position, velocity, and force in the **middle** of our step (at time $t+dt/2$), then using that to decide how much the position and velocity will change during the entire time interval $dt$.  Let’s refer to this as a **midpoint integration technique**.\n",
        "\n",
        "If the position, velocity, and force at the **start** of the interval are $x,v$, and $F$, easonable estimates of the position and velocity at the **midpoint** of the time interval are\n",
        "\n",
        "$$\n",
        "\\begin{align}\n",
        "x_\\textrm{midpoint} &= x + v \\frac{dt}{2}\\\\\n",
        "v_\\textrm{midpoint} &= v+ \\frac{F(x,v,t)}{m} \\frac{dt}{2}\n",
        "\\end{align}$$\n",
        "\n",
        "We can use these to estimate the changes $dx$ in position and $dv$ in velocity during the entire interval of duration $dt$, where $t_\\textrm{midpoint}$ is $t + dt/2$:\n",
        "\n",
        "$$\n",
        "\\begin{align}\n",
        "dx &= v_\\textrm{midpoint} dt\\\\\n",
        "dv &= \\frac{F(x_\\textrm{midpoint},v_\\textrm{midpoint},t_\\textrm{midpoint})}{m}dt\n",
        "\\end{align}\n",
        "$$\n",
        "\n",
        "The approximate values of $x$ and $v$ at the **end** of the interval (and the start o the next) are\n",
        "\n",
        "$$ x \\leftarrow x+dx$$\n",
        "$$ v \\leftarrow v+dv$$\n",
        "$$ t \\leftarrow t+dt$$\n",
        "**Note that $x$, $v$, and $F$ are all vectors, even though we haven't written the vector symbol over them**\n",
        "\n"
      ]
    },
    {
      "cell_type": "markdown",
      "metadata": {
        "hidden": true,
        "id": "GBHJ_q0CLFPR"
      },
      "source": [
        "### a. Midpoint Method"
      ]
    },
    {
      "cell_type": "markdown",
      "metadata": {
        "hidden": true,
        "id": "kYc8D2XdLFPR"
      },
      "source": [
        "Implement this midpoint method replacing your previous `Step` function. Test that it works by verifying you are essentially getting the same results as earlier (it might be slightly different because you have a smaller time step error)."
      ]
    },
    {
      "cell_type": "markdown",
      "metadata": {
        "id": "81UY6swlLFPR"
      },
      "source": [
        "*Code for the midpoint method.*\n",
        "<div><img src=\"https://clark.physics.illinois.edu/246img/AnsStart.svg\" width=200 align=left alt=\"Answer (start)\"></img><br></div>"
      ]
    },
    {
      "cell_type": "code",
      "execution_count": null,
      "metadata": {
        "id": "ed3FNhMnLFPR"
      },
      "outputs": [],
      "source": [
        "#ANSWER HERE"
      ]
    },
    {
      "cell_type": "markdown",
      "metadata": {
        "id": "2s0Jwx64LFPR"
      },
      "source": [
        "<div><img src=\"https://clark.physics.illinois.edu/246img/AnsEnd.svg\" width=200 align=left alt=\"Answer (end)\"></img><br></div>"
      ]
    },
    {
      "cell_type": "markdown",
      "metadata": {
        "hidden": true,
        "id": "D_kwOC0YLFPR"
      },
      "source": [
        "### b. Measuring the error."
      ]
    },
    {
      "cell_type": "markdown",
      "metadata": {
        "hidden": true,
        "id": "b-KZjlWFLFPR"
      },
      "source": [
        "🦉Using your second order method, measure the time-step error of our integrator for a ball with friction in the same way that you did for the first order method.\n",
        "<!-- * graphing the error it makes after a time $T=1.28$ as a function of $dt \\in \\{0.00001,0.0001,0.001,0.01,0.02,0.04,0.08,0.16,0.32\\}$.\n",
        "* determining the $\\alpha$ in the equation $\\textrm{Error} \\propto dt^\\alpha$.\n",
        "-->\n",
        "Use initial conditions of $x_0=0,v_0=10$ m/s. Be sure to include air resistance, as without friction the second order method will be exact (so you won't see a trend).\n",
        "\n",
        "Unfortunately we don't have a simple formula to get the exact result.  What we will do instead is measure the answer for a time step that is very small ($dt=0.00001$) and use that as our \"exact\" answer. Then we can compare it to larger time steps.\n",
        "\n",
        "In the end, we want to determine $\\alpha$ in the equation $\\textrm{Error} \\propto dt^\\alpha$ (the symbol $\\propto$ means \"proportional to\"). To get the $\\alpha$ we will use the process described in the warmup - i.e. plotting on a log-log plot and computing the slope."
      ]
    },
    {
      "cell_type": "markdown",
      "metadata": {
        "id": "Mrrv4NMvLFPR"
      },
      "source": [
        "*You should have your plots here.  They should start with the dropping ball initial velocities.   You should show that you are getting error which is second order.*\n",
        "<div><img src=\"https://clark.physics.illinois.edu/246img/AnsStart.svg\" width=200 align=left alt=\"Answer (start)\"></img><br></div>"
      ]
    },
    {
      "cell_type": "code",
      "execution_count": null,
      "metadata": {
        "hidden": true,
        "scrolled": false,
        "id": "dLNX6BeZLFPR"
      },
      "outputs": [],
      "source": [
        "### ANSWERE HERE"
      ]
    },
    {
      "cell_type": "markdown",
      "metadata": {
        "id": "S4e-RIZ4LFPR"
      },
      "source": [
        "<div><img src=\"https://clark.physics.illinois.edu/246img/AnsEnd.svg\" width=200 align=left alt=\"Answer (end)\"></img><br></div>"
      ]
    },
    {
      "cell_type": "markdown",
      "metadata": {
        "collapsed": true,
        "id": "E_4jreVoLFPS"
      },
      "source": [
        "## Exercise 4: Higher Order Integrators (Extra Credit: 15 points total - 5 points/section)"
      ]
    },
    {
      "cell_type": "markdown",
      "metadata": {
        "id": "vPvj5JgULFPS"
      },
      "source": [
        "* **List of collaborators:**\n",
        "\n",
        "* **References you used in developing your code:**"
      ]
    },
    {
      "cell_type": "markdown",
      "metadata": {
        "collapsed": true,
        "id": "8qWlF0GgLFPS"
      },
      "source": [
        "### a. Runge-Kutta (5 points)"
      ]
    },
    {
      "cell_type": "markdown",
      "metadata": {
        "collapsed": true,
        "id": "ewAkI79OLFPS"
      },
      "source": [
        "We have implemented a first and second order integrator.  We can even use higher order integrators.  The typical one everyone uses is the fourth order Runge-Kutta (RK) integrator - see [wikipedia](https://en.wikipedia.org/wiki/Runge%E2%80%93Kutta_methods).\n",
        "\n",
        "🦉 Go ahead and implement a fourth-order RK integrator and show (using the same time-step techniques above) that it is fourth order.  "
      ]
    },
    {
      "cell_type": "code",
      "execution_count": null,
      "metadata": {
        "id": "Kr-X7mbULFPS"
      },
      "outputs": [],
      "source": []
    },
    {
      "cell_type": "markdown",
      "metadata": {
        "collapsed": true,
        "id": "Bd8K5-28LFPS"
      },
      "source": [
        "### b. scipy ODE (5 points)"
      ]
    },
    {
      "cell_type": "markdown",
      "metadata": {
        "id": "FoLgXjbKLFPS"
      },
      "source": [
        "🦉 Rewrite ThrowBall to use `scipy.integrate.ode`.  "
      ]
    },
    {
      "cell_type": "code",
      "execution_count": null,
      "metadata": {
        "id": "t7meOzCuLFPS"
      },
      "outputs": [],
      "source": []
    },
    {
      "cell_type": "markdown",
      "metadata": {
        "id": "83513yunLFPS"
      },
      "source": [
        "### c. symplectic integrator (5 points)"
      ]
    },
    {
      "cell_type": "markdown",
      "metadata": {
        "id": "lziLJrBKLFPS"
      },
      "source": [
        "Implement a symplectic integrator at any order.  Show what order it works at and show that the energy stays close for a much longer period of time then Euler."
      ]
    },
    {
      "cell_type": "markdown",
      "metadata": {
        "id": "BCC5Tl4WLFPS"
      },
      "source": [
        "---"
      ]
    },
    {
      "cell_type": "markdown",
      "metadata": {
        "id": "UrYYqW9dLFPS"
      },
      "source": [
        "* Ex 1: George Gollin (original); Bryan Clark and Ryan Levy (modifications)\n",
        "* Ex 2: Bryan Clark (original)\n",
        "* Ex 3: George Gollin (original); Bryan Clark and Ryan Levy (modifications)\n",
        "\n",
        "\n",
        "© Copyright 2021"
      ]
    },
    {
      "cell_type": "code",
      "execution_count": null,
      "metadata": {
        "id": "syRvrWDkLFPS"
      },
      "outputs": [],
      "source": []
    }
  ],
  "metadata": {
    "kernelspec": {
      "display_name": "Python 3 (ipykernel)",
      "language": "python",
      "name": "python3"
    },
    "language_info": {
      "codemirror_mode": {
        "name": "ipython",
        "version": 3
      },
      "file_extension": ".py",
      "mimetype": "text/x-python",
      "name": "python",
      "nbconvert_exporter": "python",
      "pygments_lexer": "ipython3",
      "version": "3.10.9"
    },
    "varInspector": {
      "cols": {
        "lenName": 16,
        "lenType": 16,
        "lenVar": 40
      },
      "kernels_config": {
        "python": {
          "delete_cmd_postfix": "",
          "delete_cmd_prefix": "del ",
          "library": "var_list.py",
          "varRefreshCmd": "print(var_dic_list())"
        },
        "r": {
          "delete_cmd_postfix": ") ",
          "delete_cmd_prefix": "rm(",
          "library": "var_list.r",
          "varRefreshCmd": "cat(var_dic_list()) "
        }
      },
      "types_to_exclude": [
        "module",
        "function",
        "builtin_function_or_method",
        "instance",
        "_Feature"
      ],
      "window_display": false
    },
    "colab": {
      "provenance": []
    }
  },
  "nbformat": 4,
  "nbformat_minor": 0
}